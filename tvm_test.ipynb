{
 "cells": [
  {
   "cell_type": "code",
   "execution_count": 1,
   "metadata": {},
   "outputs": [
    {
     "name": "stderr",
     "output_type": "stream",
     "text": [
      "/home/wellslu/anaconda3/envs/CS263/lib/python3.9/site-packages/requests/__init__.py:86: RequestsDependencyWarning: Unable to find acceptable character detection dependency (chardet or charset_normalizer).\n",
      "  warnings.warn(\n"
     ]
    }
   ],
   "source": [
    "import torch\n",
    "from pytorch.src.models import ResNet\n",
    "\n",
    "device = \"cpu\"\n",
    "\n",
    "# load model\n",
    "model_path = \"pytorch/model/ResNet18.pth\"\n",
    "model = ResNet(18, 10)\n",
    "model.load_state_dict(torch.load(model_path))\n",
    "model.to(device)\n",
    "model.eval()\n",
    "\n",
    "# transfer to TorchScript\n",
    "example_input = torch.randn(1, 1, 28, 28).to(device)  # input shape: [batch_size, channel, height, width]\n",
    "traced_model = torch.jit.trace(model, example_input)\n"
   ]
  },
  {
   "cell_type": "code",
   "execution_count": 2,
   "metadata": {},
   "outputs": [],
   "source": [
    "import tvm\n",
    "from tvm import relay"
   ]
  },
  {
   "cell_type": "code",
   "execution_count": 3,
   "metadata": {},
   "outputs": [
    {
     "data": {
      "text/plain": [
       "'0.20.dev0'"
      ]
     },
     "execution_count": 3,
     "metadata": {},
     "output_type": "execute_result"
    }
   ],
   "source": [
    "tvm.__version__"
   ]
  },
  {
   "cell_type": "code",
   "execution_count": 4,
   "metadata": {},
   "outputs": [],
   "source": [
    "target = tvm.target.Target(\"llvm\")"
   ]
  },
  {
   "cell_type": "code",
   "execution_count": 5,
   "metadata": {},
   "outputs": [
    {
     "data": {
      "text/plain": [
       "[\"cpu\"]"
      ]
     },
     "execution_count": 5,
     "metadata": {},
     "output_type": "execute_result"
    }
   ],
   "source": [
    "target.keys"
   ]
  },
  {
   "cell_type": "code",
   "execution_count": 6,
   "metadata": {},
   "outputs": [],
   "source": [
    "target = tvm.target.Target(\"llvm -mtriple=armv7l-linux-gnueabihf\")"
   ]
  },
  {
   "cell_type": "code",
   "execution_count": 9,
   "metadata": {},
   "outputs": [
    {
     "data": {
      "text/plain": [
       "[\"arm_cpu\", \"cpu\"]"
      ]
     },
     "execution_count": 9,
     "metadata": {},
     "output_type": "execute_result"
    }
   ],
   "source": [
    "target.keys"
   ]
  },
  {
   "cell_type": "code",
   "execution_count": null,
   "metadata": {},
   "outputs": [],
   "source": []
  },
  {
   "cell_type": "code",
   "execution_count": 10,
   "metadata": {},
   "outputs": [
    {
     "data": {
      "text/plain": [
       "'llvm'"
      ]
     },
     "execution_count": 10,
     "metadata": {},
     "output_type": "execute_result"
    }
   ],
   "source": [
    "target.kind.name"
   ]
  },
  {
   "cell_type": "code",
   "execution_count": 37,
   "metadata": {},
   "outputs": [],
   "source": [
    "input_shape = example_input.shape\n",
    "input_name = \"input\""
   ]
  },
  {
   "cell_type": "code",
   "execution_count": 38,
   "metadata": {},
   "outputs": [],
   "source": [
    "mod, params = relay.frontend.from_pytorch(traced_model, [(input_name, input_shape)])"
   ]
  },
  {
   "cell_type": "code",
   "execution_count": null,
   "metadata": {},
   "outputs": [],
   "source": [
    "# target = tvm.target.Target(\"llvm -mtriple=armv7l-linux-gnueabihf\")\n",
    "\n",
    "# # Compile with the ARM target\n",
    "# with tvm.transform.PassContext(opt_level=3):\n",
    "#     lib = relay.build(mod, target=target, params=params)\n",
    "\n",
    "# # Export the compiled model\n",
    "# lib.export_library(\"tvm_rpi3.tar\")"
   ]
  },
  {
   "cell_type": "code",
   "execution_count": 39,
   "metadata": {},
   "outputs": [],
   "source": [
    "with tvm.transform.PassContext(opt_level=3):\n",
    "    lib = relay.build(mod, target=target, params=params)"
   ]
  },
  {
   "cell_type": "code",
   "execution_count": 40,
   "metadata": {},
   "outputs": [],
   "source": [
    "from torch.utils import data\n",
    "from torchvision import datasets, transforms\n",
    "class MNIST(data.DataLoader):\n",
    "\n",
    "    def __init__(self, batch_size: int, train: bool, **kwargs):\n",
    "        transform = transforms.Compose([\n",
    "            # transforms.Resize((28,28)),\n",
    "            transforms.ToTensor(),\n",
    "            transforms.Normalize((0.1307,), (0.3081,))\n",
    "        ])\n",
    "\n",
    "        dataset = datasets.MNIST('./pytorch/data/mnist', train=False, transform=transform)\n",
    "\n",
    "        super(MNIST, self).__init__(dataset=dataset, batch_size=batch_size, shuffle=train, **kwargs)\n",
    "\n",
    "test_loader = MNIST(batch_size=1, train=False)"
   ]
  },
  {
   "cell_type": "code",
   "execution_count": 41,
   "metadata": {},
   "outputs": [],
   "source": [
    "for i, (data, target) in enumerate(test_loader):\n",
    "    if i == 0:\n",
    "        break"
   ]
  },
  {
   "cell_type": "code",
   "execution_count": 42,
   "metadata": {},
   "outputs": [],
   "source": [
    "import time"
   ]
  },
  {
   "cell_type": "code",
   "execution_count": 43,
   "metadata": {},
   "outputs": [
    {
     "name": "stdout",
     "output_type": "stream",
     "text": [
      "TVM running time: 1.0580708980560303\n",
      "TVM output: [[3.1008712e-23 1.2309332e-20 9.8386543e-24 1.6017456e-19 2.9745590e-22\n",
      "  8.2686773e-26 9.5610522e-23 1.0000000e+00 2.6356636e-23 2.4026528e-19]]\n"
     ]
    }
   ],
   "source": [
    "import numpy as np\n",
    "from tvm.contrib import graph_executor\n",
    "\n",
    "# create a runtime executor module\n",
    "dev = tvm.cpu()\n",
    "module = graph_executor.GraphModule(lib[\"default\"](dev))\n",
    "\n",
    "# input data\n",
    "input_data = data.reshape(1, 1, 28, 28)\n",
    "input_data = np.array(input_data.numpy(), dtype=\"float32\")\n",
    "\n",
    "# process model\n",
    "start = time.time()\n",
    "for i in range(1000):\n",
    "    tvm_data = tvm.nd.array(input_data)\n",
    "    module.set_input(input_name, tvm_data)\n",
    "    module.run()\n",
    "    output = module.get_output(0).asnumpy()\n",
    "end = time.time()\n",
    "print(\"TVM running time:\", end - start)\n",
    "\n",
    "# get output\n",
    "output = module.get_output(0).asnumpy()\n",
    "print(\"TVM output:\", output)"
   ]
  },
  {
   "cell_type": "code",
   "execution_count": 44,
   "metadata": {},
   "outputs": [
    {
     "name": "stdout",
     "output_type": "stream",
     "text": [
      "PyTorch runnung time: 1.8217601776123047\n",
      "PyTorch output: [[3.1008592e-23 1.2309191e-20 9.8385044e-24 1.6017272e-19 2.9745476e-22\n",
      "  8.2685510e-26 9.5609797e-23 1.0000000e+00 2.6356335e-23 2.4026345e-19]]\n"
     ]
    }
   ],
   "source": [
    "model.eval()\n",
    "start = time.time()\n",
    "for i in range(1000):\n",
    "    output = model(data)\n",
    "end = time.time()\n",
    "print(\"PyTorch runnung time:\", end - start)\n",
    "print(\"PyTorch output:\", output.detach().numpy())"
   ]
  },
  {
   "cell_type": "code",
   "execution_count": null,
   "metadata": {},
   "outputs": [],
   "source": []
  }
 ],
 "metadata": {
  "kernelspec": {
   "display_name": "CS263",
   "language": "python",
   "name": "python3"
  },
  "language_info": {
   "codemirror_mode": {
    "name": "ipython",
    "version": 3
   },
   "file_extension": ".py",
   "mimetype": "text/x-python",
   "name": "python",
   "nbconvert_exporter": "python",
   "pygments_lexer": "ipython3",
   "version": "3.9.21"
  }
 },
 "nbformat": 4,
 "nbformat_minor": 2
}
